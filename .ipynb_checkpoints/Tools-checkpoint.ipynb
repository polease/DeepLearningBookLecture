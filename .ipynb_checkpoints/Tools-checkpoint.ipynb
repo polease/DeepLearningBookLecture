{
 "cells": [
  {
   "cell_type": "markdown",
   "metadata": {},
   "source": [
    "# Jupyter Notebook "
   ]
  },
  {
   "cell_type": "markdown",
   "metadata": {},
   "source": [
    "## Jupyter Notebook Table of Content Widget\n",
    "\n",
    "**Problem**: One of the issue is that your notebook become large, and you couldn't have a feeling of the key layout/content within the notebook. \n",
    "\n",
    "**Solution**: Table of Content(ToC) widget provide you a very convient way (no extra hand writing) to show as the summary/navigation map of the notebook.\n",
    "\n",
    "**Screenshot**:\n",
    "![Table of Content Widget](Images/TableOfContentWidget.png)\n",
    "\n",
    "**Link**:\n",
    "https://github.com/minrk/ipython_extensions#table-of-contents"
   ]
  },
  {
   "cell_type": "markdown",
   "metadata": {},
   "source": [
    "## RISE : Jupyter Notebook Powerpoint\n",
    "\n",
    "**Problem** : Jupyter Notebook is really good for documentation, but showing to other people in a training session or video session, it may not bring the focus of people into one place.\n",
    "\n",
    "**Solution**: \n",
    "RISE allows you to instantly turn your Jupyter Notebooks into a slideshow. No out-of-band conversion is needed, switch from jupyter notebook to a live reveal.js-based slideshow in a single keystroke, and back.\n",
    "\n",
    "**Screenshot**:\n",
    "![Rise, Jupyter Notebook PowerPoint](https://camo.githubusercontent.com/0752ef9e293123a9eb986b696030954dcf74e3ef/68747470733a2f2f6d656469612e67697068792e636f6d2f6d656469612f336f78485174547841615a774d4f487239752f67697068792e676966)\n",
    "\n",
    "**Link**:\n",
    "https://github.com/damianavila/RISE"
   ]
  },
  {
   "cell_type": "markdown",
   "metadata": {},
   "source": [
    "# Jupyter Notebook Extension - Move Cell\n",
    "**Problem** : when i create jupyter notebook, many times, i need to adjust the cell sequence up and down, select each cell and use the menu is quite time consuming. \n",
    "\n",
    "**Solution** : Using shortcut key via the extension would largely increase the efficiency of moving cell around.\n",
    "\n",
    "**Screenshot**:\n",
    "\n",
    "\n",
    "**Link**:\n",
    "http://jupyter-contrib-nbextensions.readthedocs.io/en/latest/install.html\n",
    "https://github.com/Jupyter-contrib/jupyter_nbextensions_configurator"
   ]
  }
 ],
 "metadata": {
  "kernelspec": {
   "display_name": "Python (DeepLearningBook)",
   "language": "python",
   "name": "deeplearningbook"
  },
  "language_info": {
   "codemirror_mode": {
    "name": "ipython",
    "version": 3
   },
   "file_extension": ".py",
   "mimetype": "text/x-python",
   "name": "python",
   "nbconvert_exporter": "python",
   "pygments_lexer": "ipython3",
   "version": "3.5.2"
  }
 },
 "nbformat": 4,
 "nbformat_minor": 2
}
