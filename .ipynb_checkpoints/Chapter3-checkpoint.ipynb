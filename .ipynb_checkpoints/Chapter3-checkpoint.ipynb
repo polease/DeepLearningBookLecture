{
 "cells": [
  {
   "cell_type": "markdown",
   "metadata": {},
   "source": [
    "# Probability and Information Theory\n",
    "\n"
   ]
  },
  {
   "cell_type": "markdown",
   "metadata": {},
   "source": [
    "## Probability Mass Function (PMF) \n",
    "\n",
    "\n",
    "> <img src=\"images/3.Probability/Dice.png\" height=\"30px\" width=\"60px\" class=\"hint\" style=\"text-align:left\"/> The domain of X contains discrete values\n",
    "\n",
    "* The domain of P must be the set of all possible states of x.\n",
    " ∀x ∈ x,0≤ P(x)≤1.\n",
    "* An impossible event has probability 0, and no statecan be less probable than that. Likewise, an event that is guaranteed tohappen has probability 1, and no state can have a greater chance of occurring.•\n",
    "* x∈xP(x) = 1. We refer to this property as beingnormalized. \n",
    "\n",
    "![PMF](images/PMF.png)\n"
   ]
  },
  {
   "cell_type": "markdown",
   "metadata": {},
   "source": [
    "Example : Uniformed distribution\n",
    "\n",
    "$$ P(X = x_i) = \\frac{1}{k} \\tag{3.1} $$\n",
    "\n",
    "![Uniformed Discrete](images\\3.Probability\\UniformDiscrete.png)"
   ]
  },
  {
   "cell_type": "markdown",
   "metadata": {},
   "source": [
    "## Probability Density Function (PDF)\n",
    "\n",
    "\n",
    " * The domain of p must be the set of all possible states of x.\n",
    " * ∀x ∈ x, p(x) ≥ 0. Note that we do not require p(x) ≤ 1.\n",
    " * $\\int p(x)dx = 1 $"
   ]
  },
  {
   "cell_type": "markdown",
   "metadata": {},
   "source": [
    "Example: Normal Distribution\n",
    "\n",
    "![Normal Distribution](images/3.Probability/PDF.png)"
   ]
  },
  {
   "cell_type": "markdown",
   "metadata": {},
   "source": [
    "## Joint, Marginal and Conditional Probability\n",
    "\n",
    "P(X = x,Y = y) is the joint distribution of X and Y, while P(X = x|Y = y) is the conditional distribution of X given Y\n",
    "$$\n",
    "P(X=x) = \\Sigma_y P(X=x,Y=y) = \\Sigma_y (X=x | Y = y)P(Y=y)\n",
    "$$\n",
    "\n",
    "\n",
    "$$\n",
    "p(x) = \\int p(x,y)dy\n",
    "$$\n",
    "\n",
    "Following image illustrate the three proability distribution via a two-way table. Highly recommend see [this great video](https://www.youtube.com/watch?v=SrEmzdOT65s) from zedstatistics .\n",
    "\n",
    "![Probability Distribution](Images/3.Probability/ProbabilityDistribution.png)\n",
    "\n"
   ]
  },
  {
   "cell_type": "code",
   "execution_count": 31,
   "metadata": {},
   "outputs": [
    {
     "data": {
      "text/html": [
       "<div>\n",
       "<table border=\"1\" class=\"dataframe\">\n",
       "  <thead>\n",
       "    <tr style=\"text-align: right;\">\n",
       "      <th></th>\n",
       "      <th>Male</th>\n",
       "      <th>Female</th>\n",
       "    </tr>\n",
       "  </thead>\n",
       "  <tbody>\n",
       "    <tr>\n",
       "      <th>Game of Thrones</th>\n",
       "      <td>80</td>\n",
       "      <td>120</td>\n",
       "    </tr>\n",
       "    <tr>\n",
       "      <th>West World</th>\n",
       "      <td>100</td>\n",
       "      <td>25</td>\n",
       "    </tr>\n",
       "    <tr>\n",
       "      <th>Other</th>\n",
       "      <td>50</td>\n",
       "      <td>125</td>\n",
       "    </tr>\n",
       "  </tbody>\n",
       "</table>\n",
       "</div>"
      ],
      "text/plain": [
       "                 Male  Female\n",
       "Game of Thrones    80     120\n",
       "West World        100      25\n",
       "Other              50     125"
      ]
     },
     "execution_count": 31,
     "metadata": {},
     "output_type": "execute_result"
    }
   ],
   "source": [
    "import pandas as pd\n",
    "import numpy as np\n",
    "\n",
    "tv = pd.read_csv(\"TVShowProbability.csv\",index_col=0) \n",
    "tv"
   ]
  },
  {
   "cell_type": "code",
   "execution_count": 32,
   "metadata": {},
   "outputs": [
    {
     "data": {
      "text/html": [
       "<div>\n",
       "<table border=\"1\" class=\"dataframe\">\n",
       "  <thead>\n",
       "    <tr style=\"text-align: right;\">\n",
       "      <th></th>\n",
       "      <th>Male</th>\n",
       "      <th>Female</th>\n",
       "      <th>Total</th>\n",
       "    </tr>\n",
       "  </thead>\n",
       "  <tbody>\n",
       "    <tr>\n",
       "      <th>Game of Thrones</th>\n",
       "      <td>80</td>\n",
       "      <td>120</td>\n",
       "      <td>200</td>\n",
       "    </tr>\n",
       "    <tr>\n",
       "      <th>West World</th>\n",
       "      <td>100</td>\n",
       "      <td>25</td>\n",
       "      <td>125</td>\n",
       "    </tr>\n",
       "    <tr>\n",
       "      <th>Other</th>\n",
       "      <td>50</td>\n",
       "      <td>125</td>\n",
       "      <td>175</td>\n",
       "    </tr>\n",
       "    <tr>\n",
       "      <th>RowTotal</th>\n",
       "      <td>230</td>\n",
       "      <td>270</td>\n",
       "      <td>500</td>\n",
       "    </tr>\n",
       "  </tbody>\n",
       "</table>\n",
       "</div>"
      ],
      "text/plain": [
       "                 Male  Female  Total\n",
       "Game of Thrones    80     120    200\n",
       "West World        100      25    125\n",
       "Other              50     125    175\n",
       "RowTotal          230     270    500"
      ]
     },
     "execution_count": 32,
     "metadata": {},
     "output_type": "execute_result"
    }
   ],
   "source": [
    "# Create Marginal Total (column and row)\n",
    "tv[\"Total\"] = tv.sum(axis=1)\n",
    "total_row = pd.Series(tv.sum(axis=0))\n",
    "total_row.name = \"RowTotal\"\n",
    "tv = tv.append(total_row)\n",
    "tv"
   ]
  },
  {
   "cell_type": "code",
   "execution_count": 39,
   "metadata": {},
   "outputs": [
    {
     "data": {
      "text/html": [
       "<div>\n",
       "<table border=\"1\" class=\"dataframe\">\n",
       "  <thead>\n",
       "    <tr style=\"text-align: right;\">\n",
       "      <th></th>\n",
       "      <th>Male</th>\n",
       "      <th>Female</th>\n",
       "      <th>Total</th>\n",
       "    </tr>\n",
       "  </thead>\n",
       "  <tbody>\n",
       "    <tr>\n",
       "      <th>Game of Thrones</th>\n",
       "      <td>0.16</td>\n",
       "      <td>0.24</td>\n",
       "      <td>0.40</td>\n",
       "    </tr>\n",
       "    <tr>\n",
       "      <th>West World</th>\n",
       "      <td>0.20</td>\n",
       "      <td>0.05</td>\n",
       "      <td>0.25</td>\n",
       "    </tr>\n",
       "    <tr>\n",
       "      <th>Other</th>\n",
       "      <td>0.10</td>\n",
       "      <td>0.25</td>\n",
       "      <td>0.35</td>\n",
       "    </tr>\n",
       "    <tr>\n",
       "      <th>RowTotal</th>\n",
       "      <td>0.46</td>\n",
       "      <td>0.54</td>\n",
       "      <td>1.00</td>\n",
       "    </tr>\n",
       "  </tbody>\n",
       "</table>\n",
       "</div>"
      ],
      "text/plain": [
       "                 Male  Female  Total\n",
       "Game of Thrones  0.16    0.24   0.40\n",
       "West World       0.20    0.05   0.25\n",
       "Other            0.10    0.25   0.35\n",
       "RowTotal         0.46    0.54   1.00"
      ]
     },
     "execution_count": 39,
     "metadata": {},
     "output_type": "execute_result"
    }
   ],
   "source": [
    "# Convert to two-way frequency probablity table\n",
    "# P(Gender) = Sum of P(TVShow,Gender) over TVShow\n",
    "# P(TVShow) = Sum of P(TVShow,Gender) over Gender\n",
    "tv_prob = tv/tv.ix[\"RowTotal\",\"Total\"]\n",
    "tv_prob"
   ]
  },
  {
   "cell_type": "code",
   "execution_count": 47,
   "metadata": {},
   "outputs": [
    {
     "data": {
      "text/html": [
       "<div>\n",
       "<table border=\"1\" class=\"dataframe\">\n",
       "  <thead>\n",
       "    <tr style=\"text-align: right;\">\n",
       "      <th></th>\n",
       "      <th>Male</th>\n",
       "      <th>Female</th>\n",
       "      <th>Total</th>\n",
       "      <th>Condition | Female</th>\n",
       "    </tr>\n",
       "  </thead>\n",
       "  <tbody>\n",
       "    <tr>\n",
       "      <th>Game of Thrones</th>\n",
       "      <td>0.16</td>\n",
       "      <td>0.24</td>\n",
       "      <td>0.40</td>\n",
       "      <td>0.444444</td>\n",
       "    </tr>\n",
       "    <tr>\n",
       "      <th>West World</th>\n",
       "      <td>0.20</td>\n",
       "      <td>0.05</td>\n",
       "      <td>0.25</td>\n",
       "      <td>0.092593</td>\n",
       "    </tr>\n",
       "    <tr>\n",
       "      <th>Other</th>\n",
       "      <td>0.10</td>\n",
       "      <td>0.25</td>\n",
       "      <td>0.35</td>\n",
       "      <td>0.462963</td>\n",
       "    </tr>\n",
       "    <tr>\n",
       "      <th>RowTotal</th>\n",
       "      <td>0.46</td>\n",
       "      <td>0.54</td>\n",
       "      <td>1.00</td>\n",
       "      <td>1.000000</td>\n",
       "    </tr>\n",
       "  </tbody>\n",
       "</table>\n",
       "</div>"
      ],
      "text/plain": [
       "                 Male  Female  Total  Condition | Female\n",
       "Game of Thrones  0.16    0.24   0.40            0.444444\n",
       "West World       0.20    0.05   0.25            0.092593\n",
       "Other            0.10    0.25   0.35            0.462963\n",
       "RowTotal         0.46    0.54   1.00            1.000000"
      ]
     },
     "execution_count": 47,
     "metadata": {},
     "output_type": "execute_result"
    }
   ],
   "source": [
    "# Add Conditional column over \"Female\" \n",
    "# P(TVShow | Gender) = P(TVShow,Gender) / P(Gender)\n",
    "tv_prob[\"Condition | Female\"] = tv_prob[\"Female\"] / tv_prob.ix[\"RowTotal\",\"Female\"]\n",
    "tv_prob"
   ]
  },
  {
   "cell_type": "markdown",
   "metadata": {},
   "source": [
    "## Probablity Calculation\n",
    "\n"
   ]
  },
  {
   "cell_type": "markdown",
   "metadata": {},
   "source": [
    "### Chain Rule\n",
    "\n",
    "> Think joint probability as logic AND operation\n",
    "\n",
    "$$ P(x^{(1)},...,x^{(n)}) = P(x^{(1)})\\prod_{i=2}^{n} P(x^{(i}|x^{(1)},...,x^{(i-1})) $$\n",
    "\n",
    "$$ P(a,b,c) = P(a|b,c)P(b,c) = P(a|b,c)P(b|c)P(c) $$\n",
    "\n"
   ]
  },
  {
   "cell_type": "markdown",
   "metadata": {},
   "source": [
    "### Independence\n",
    "\n",
    "$$\\forall x \\in X, y \\in Y, p(X=x,Y=y) = p(X=x)P(Y=y) $$"
   ]
  }
 ],
 "metadata": {
  "kernelspec": {
   "display_name": "Python (DeepLearningBook)",
   "language": "python",
   "name": "deeplearningbook"
  },
  "language_info": {
   "codemirror_mode": {
    "name": "ipython",
    "version": 3
   },
   "file_extension": ".py",
   "mimetype": "text/x-python",
   "name": "python",
   "nbconvert_exporter": "python",
   "pygments_lexer": "ipython3",
   "version": "3.5.2"
  },
  "varInspector": {
   "cols": {
    "lenName": 16,
    "lenType": 16,
    "lenVar": 40
   },
   "kernels_config": {
    "python": {
     "delete_cmd_postfix": "",
     "delete_cmd_prefix": "del ",
     "library": "var_list.py",
     "varRefreshCmd": "print(var_dic_list())"
    },
    "r": {
     "delete_cmd_postfix": ") ",
     "delete_cmd_prefix": "rm(",
     "library": "var_list.r",
     "varRefreshCmd": "cat(var_dic_list()) "
    }
   },
   "types_to_exclude": [
    "module",
    "function",
    "builtin_function_or_method",
    "instance",
    "_Feature"
   ],
   "window_display": false
  }
 },
 "nbformat": 4,
 "nbformat_minor": 2
}
