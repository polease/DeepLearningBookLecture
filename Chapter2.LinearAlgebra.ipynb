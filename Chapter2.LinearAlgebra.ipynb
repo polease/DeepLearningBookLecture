{
 "cells": [
  {
   "cell_type": "markdown",
   "metadata": {
    "hide_input": false
   },
   "source": [
    "# Linear Algebra"
   ]
  },
  {
   "cell_type": "code",
   "execution_count": 106,
   "metadata": {
    "scrolled": true,
    "slideshow": {
     "slide_type": "slide"
    }
   },
   "outputs": [
    {
     "data": {
      "text/html": [
       "\n",
       "        <iframe\n",
       "            width=\"1000\"\n",
       "            height=\"500\"\n",
       "            src=\"story.html\"\n",
       "            frameborder=\"0\"\n",
       "            allowfullscreen\n",
       "        ></iframe>\n",
       "        "
      ],
      "text/plain": [
       "<IPython.lib.display.IFrame at 0x111f58e48>"
      ]
     },
     "execution_count": 106,
     "metadata": {},
     "output_type": "execute_result"
    }
   ],
   "source": [
    "# HIDEME \n",
    "from IPython.display import IFrame\n",
    "IFrame('story.html', width=1000, height=500)"
   ]
  },
  {
   "cell_type": "code",
   "execution_count": 107,
   "metadata": {
    "slideshow": {
     "slide_type": "skip"
    }
   },
   "outputs": [
    {
     "data": {
      "application/javascript": [
       "$(\"div.input\").has(\"div:contains('HIDEME')\").hide();\n",
       "var iframe_cell = $(\"div.cell\").has(\"iframe\");\n",
       "iframe_cell.find(\"div.prompt\").html(\"\");"
      ],
      "text/plain": [
       "<IPython.core.display.Javascript object>"
      ]
     },
     "metadata": {},
     "output_type": "display_data"
    }
   ],
   "source": [
    "%%javascript\n",
    "$(\"div.input\").has(\"div:contains('HIDEME')\").hide();\n",
    "var iframe_cell = $(\"div.cell\").has(\"iframe\");\n",
    "iframe_cell.find(\"div.prompt\").html(\"\");"
   ]
  },
  {
   "cell_type": "markdown",
   "metadata": {
    "slideshow": {
     "slide_type": "slide"
    }
   },
   "source": [
    "## Introduce Tensor"
   ]
  },
  {
   "cell_type": "code",
   "execution_count": 108,
   "metadata": {
    "slideshow": {
     "slide_type": "skip"
    }
   },
   "outputs": [],
   "source": [
    "## HIDEME\n",
    "\n",
    "import numpy as np\n",
    "import matplotlib.pyplot as plt"
   ]
  },
  {
   "cell_type": "code",
   "execution_count": 109,
   "metadata": {
    "slideshow": {
     "slide_type": "skip"
    }
   },
   "outputs": [],
   "source": [
    "## HIDEME\n",
    "\n",
    "def show_vector( v,o = [0,0], color='k'):\n",
    "    ax = plt.axes()\n",
    "    ax.grid(color='#DCDCDC', linestyle='-',linewidth=1)\n",
    "    ax.arrow(o[0], o[1], v[0],v[1], head_width=0.1, head_length=0.1, color=color, animated=True) \n",
    "    \n",
    "def display():\n",
    "    plt.xlim(-3,5)\n",
    "    plt.ylim(-3,5)\n",
    "    plt.show()"
   ]
  },
  {
   "cell_type": "markdown",
   "metadata": {
    "slideshow": {
     "slide_type": "slide"
    }
   },
   "source": [
    "### Scalar\n",
    "\n",
    "* A scalar is a single number\n",
    "* Integers, real numbers, rational numbers, etc.\n",
    "* We denote it with italic font: $$\\it a,n,x\n",
    "$$"
   ]
  },
  {
   "cell_type": "code",
   "execution_count": 110,
   "metadata": {
    "slideshow": {
     "slide_type": "fragment"
    }
   },
   "outputs": [
    {
     "data": {
      "text/plain": [
       "2"
      ]
     },
     "execution_count": 110,
     "metadata": {},
     "output_type": "execute_result"
    }
   ],
   "source": [
    "# Scalar\n",
    "x = 0  \n",
    "x = 2\n",
    "x"
   ]
  },
  {
   "cell_type": "markdown",
   "metadata": {
    "slideshow": {
     "slide_type": "slide"
    }
   },
   "source": [
    "### Vector\n",
    "> Vector is a point in multi-dimention (feature) space.\n",
    "\n",
    "* A vector is a 1-D array of numbers:\n",
    "$$\n",
    "\\it{x} \n",
    "= \n",
    "\\begin{bmatrix}\n",
    "x_1 \\\\\n",
    "x_2 \\\\\n",
    "x_3\n",
    "\\end{bmatrix}\n",
    "$$\n",
    "\n",
    "* Can be real, binary, integer, etc.\n",
    "* Example notation for type and size:\n",
    "$$\\mathbb{R}_n$$\n",
    "\n",
    "<img src=\"images/vector.png\" width=\"400px\" />"
   ]
  },
  {
   "cell_type": "code",
   "execution_count": 111,
   "metadata": {
    "slideshow": {
     "slide_type": "fragment"
    }
   },
   "outputs": [
    {
     "data": {
      "text/plain": [
       "array([ 3., -2.])"
      ]
     },
     "execution_count": 111,
     "metadata": {},
     "output_type": "execute_result"
    }
   ],
   "source": [
    "# Vector\n",
    "v0 = np.array([3,-2], dtype=np.float)\n",
    "v0"
   ]
  },
  {
   "cell_type": "code",
   "execution_count": 112,
   "metadata": {
    "slideshow": {
     "slide_type": "slide"
    }
   },
   "outputs": [
    {
     "data": {
      "image/png": "[encoded data removed]",
      "text/plain": [
       "<matplotlib.figure.Figure at 0x111e2ceb8>"
      ]
     },
     "metadata": {},
     "output_type": "display_data"
    }
   ],
   "source": [
    "# Add two Vector\n",
    "v1 = np.array([1,1])\n",
    "v2 = np.array([1,3])\n",
    "v3 = v1+v2\n",
    "show_vector(v1, color='r')\n",
    "show_vector(v2,v1, 'b')\n",
    "show_vector(v3, color='g')\n",
    "display()"
   ]
  },
  {
   "cell_type": "markdown",
   "metadata": {
    "slideshow": {
     "slide_type": "slide"
    }
   },
   "source": [
    "### Matrix\n",
    "\n",
    "> Matrix is a way to transform vector into different space.\n",
    "\n",
    "> Matrix is a collection of vectors\n",
    "\n",
    "* A matrix is a 2-D array of numbers:\n",
    "$$\n",
    "{A} =\n",
    "\\begin{bmatrix}\n",
    "A_{1,1} & A_{1,2} \\\\\n",
    "A_{2,1} & A_{2,2}\n",
    "\\end{bmatrix}\n",
    "$$\n",
    "\n",
    "* Example notation for type and shape:\n",
    "\n",
    "$$\n",
    "{\\bf A} = \\mathbb{R}^{m\\times n}\n",
    "$$"
   ]
  },
  {
   "cell_type": "code",
   "execution_count": 113,
   "metadata": {
    "slideshow": {
     "slide_type": "subslide"
    }
   },
   "outputs": [
    {
     "data": {
      "text/plain": [
       "array([[1, 1],\n",
       "       [1, 3]])"
      ]
     },
     "execution_count": 113,
     "metadata": {},
     "output_type": "execute_result"
    }
   ],
   "source": [
    "# Matrix\n",
    "M = np.array([v1,v2])\n",
    "M"
   ]
  },
  {
   "cell_type": "code",
   "execution_count": 114,
   "metadata": {
    "slideshow": {
     "slide_type": "fragment"
    }
   },
   "outputs": [
    {
     "data": {
      "text/plain": [
       "array([[1, 2],\n",
       "       [3, 4]])"
      ]
     },
     "execution_count": 114,
     "metadata": {},
     "output_type": "execute_result"
    }
   ],
   "source": [
    "A = np.array([[1,2],[3,4]])\n",
    "A"
   ]
  },
  {
   "cell_type": "markdown",
   "metadata": {},
   "source": [
    "### From basis vector to any matrix\n",
    "Below shows how to form matrix from the basis vectors $\\hat{\\mathbf{i}}$ and $\\hat{\\mathbf{j}}$ , such as $\\begin{bmatrix} \n",
    "3 & 1 \\\\\n",
    "1 & 2 \n",
    "\\end{bmatrix} $"
   ]
  },
  {
   "cell_type": "code",
   "execution_count": 115,
   "metadata": {
    "scrolled": true,
    "slideshow": {
     "slide_type": "subslide"
    }
   },
   "outputs": [
    {
     "name": "stdout",
     "output_type": "stream",
     "text": [
      "[[1 0]\n",
      " [0 1]]\n"
     ]
    }
   ],
   "source": [
    "# from Vector to Matrix\n",
    "i_hat = np.array([1,0])\n",
    "j_hat = np.array([0,1])\n",
    "show_vector(i_hat, color='b')\n",
    "show_vector(j_hat, color='r')\n",
    "\n",
    "I= np.array([i_hat,j_hat])\n",
    "print(I)"
   ]
  },
  {
   "cell_type": "code",
   "execution_count": 116,
   "metadata": {
    "slideshow": {
     "slide_type": "fragment"
    }
   },
   "outputs": [
    {
     "name": "stdout",
     "output_type": "stream",
     "text": [
      "[[3 1]\n",
      " [1 2]]\n"
     ]
    }
   ],
   "source": [
    "N = np.array([3 * i_hat + j_hat, i_hat + 2 * j_hat])\n",
    "print(N)"
   ]
  },
  {
   "cell_type": "markdown",
   "metadata": {},
   "source": [
    "**Matrix as Transformation**\n",
    "\n",
    "Now consider matrix as the transformation piece, any vector can be perfectly described by it's basis vector (the identity matrix).\n",
    "\n",
    "\\begin{equation*}\n",
    "\\begin{bmatrix} \n",
    "1 & 0 \\\\\n",
    "0 & 1 \n",
    "\\end{bmatrix} \n",
    "\\begin{bmatrix} \n",
    "-1 \\\\\n",
    "2\n",
    "\\end{bmatrix}  =\n",
    "\\begin{bmatrix} \n",
    "-1 \\\\\n",
    "2\n",
    "\\end{bmatrix}  \n",
    "\\end{equation*}"
   ]
  },
  {
   "cell_type": "code",
   "execution_count": 117,
   "metadata": {},
   "outputs": [
    {
     "name": "stdout",
     "output_type": "stream",
     "text": [
      "[-1  2]\n"
     ]
    }
   ],
   "source": [
    "v5 = np.array([-1,2])\n",
    "N_v5 = np.dot(I, v5)\n",
    "print(N_v5)"
   ]
  },
  {
   "cell_type": "markdown",
   "metadata": {},
   "source": [
    "Now consider the matrix as the combination of new basis vector, and it's a linear transformation of v5 via new basis vector into the new feature space.\n",
    "\n",
    "\\begin{equation*}\n",
    "\\begin{bmatrix} \n",
    "3 & 1 \\\\\n",
    "1 & 2 \n",
    "\\end{bmatrix} \n",
    "\\begin{bmatrix} \n",
    "-1 \\\\\n",
    "2\n",
    "\\end{bmatrix}  =\n",
    "\\begin{bmatrix} \n",
    "-1 \\\\\n",
    "3\n",
    "\\end{bmatrix}  \n",
    "\\end{equation*}\n",
    "\n",
    "\n",
    "<img src=\"images/Transformation.gif\" width=\"600px\" /> "
   ]
  },
  {
   "cell_type": "code",
   "execution_count": 118,
   "metadata": {
    "slideshow": {
     "slide_type": "fragment"
    }
   },
   "outputs": [
    {
     "data": {
      "text/plain": [
       "array([-1,  3])"
      ]
     },
     "execution_count": 118,
     "metadata": {},
     "output_type": "execute_result"
    }
   ],
   "source": [
    "\n",
    "N2= np.dot(v5,N)\n",
    "N2"
   ]
  },
  {
   "cell_type": "markdown",
   "metadata": {
    "slideshow": {
     "slide_type": "slide"
    }
   },
   "source": [
    "### Tensor\n",
    "\n",
    "> Tensor is a unified way of describe the points in feature space or transformation of feature space.\n",
    "\n",
    "A tensor is an array of numbers, that may have\n",
    "* zero dimensions, and be a scalar\n",
    "* one dimension, and be a vector\n",
    "* two dimensions, and be a matrix\n",
    "* or more dimensions."
   ]
  },
  {
   "cell_type": "code",
   "execution_count": 119,
   "metadata": {
    "slideshow": {
     "slide_type": "fragment"
    }
   },
   "outputs": [],
   "source": [
    "# Tensor\n",
    "T = np.ones((2,3,2))"
   ]
  },
  {
   "cell_type": "markdown",
   "metadata": {
    "slideshow": {
     "slide_type": "slide"
    }
   },
   "source": [
    "## Matrix Operation"
   ]
  },
  {
   "cell_type": "markdown",
   "metadata": {
    "slideshow": {
     "slide_type": "subslide"
    }
   },
   "source": [
    "###  Addition\n",
    "\n",
    "numpy offer very convinient way of matrix/vector/scalar addition operation, including\n",
    "* element-wise addition\n",
    "* vector broadcasting"
   ]
  },
  {
   "cell_type": "code",
   "execution_count": 120,
   "metadata": {
    "slideshow": {
     "slide_type": "fragment"
    }
   },
   "outputs": [
    {
     "name": "stdout",
     "output_type": "stream",
     "text": [
      "[[1 2]\n",
      " [3 4]]\n",
      "[[1 0]\n",
      " [0 1]]\n",
      "[-1  2]\n",
      "[[3 6]\n",
      " [4 9]]\n"
     ]
    }
   ],
   "source": [
    "print(A)\n",
    "print(I)\n",
    "print(v5)\n",
    "\n",
    "# Add two matrix\n",
    "B = A + I +  v5 + 2\n",
    "print(B)"
   ]
  },
  {
   "cell_type": "markdown",
   "metadata": {
    "slideshow": {
     "slide_type": "slide"
    }
   },
   "source": [
    "### Mutiplication\n",
    "\n",
    "> Matrix dot product can be consider as vector space transformation.\n",
    "\n",
    "$$ C = AB \\tag{2.4} $$\n",
    "$$ C_i,j = \\sum_k A_{i,k}B_{k,j} \\tag{2.5} $$"
   ]
  },
  {
   "cell_type": "code",
   "execution_count": 121,
   "metadata": {
    "slideshow": {
     "slide_type": "fragment"
    }
   },
   "outputs": [
    {
     "name": "stdout",
     "output_type": "stream",
     "text": [
      "[[3 6]\n",
      " [4 9]]\n",
      "[[3 1]\n",
      " [1 2]]\n",
      "[[15 15]\n",
      " [21 22]]\n",
      "[[ 9  6]\n",
      " [ 4 18]]\n"
     ]
    }
   ],
   "source": [
    "print(B)\n",
    "print(N)\n",
    "\n",
    "K = np.dot(B,N) \n",
    "print(K)\n",
    "K2 = B * N\n",
    "print(K2)"
   ]
  },
  {
   "cell_type": "markdown",
   "metadata": {},
   "source": [
    "> For matrix dimention is different than the vector dimention, it's a way to transform from one lower/higher dimention to higher/lower dimention operation. \n",
    "\n",
    "For below example, it's tranforming a vector from 2 dimention to 3 dimention space via two 3-dimention basis vectors.\n",
    "\n",
    "![VectorSpaceTransformation](images/VectorSpaceTransformation.png)"
   ]
  },
  {
   "cell_type": "code",
   "execution_count": 122,
   "metadata": {},
   "outputs": [
    {
     "name": "stdout",
     "output_type": "stream",
     "text": [
      "[15 19 26]\n"
     ]
    }
   ],
   "source": [
    "M_dot = np.array([[1,3],[5,1],[2,5]])\n",
    "v_dot = np.array([3,4])\n",
    "\n",
    "v_transformed = np.dot(M_dot,v_dot)\n",
    "print(v_transformed)"
   ]
  },
  {
   "cell_type": "markdown",
   "metadata": {
    "slideshow": {
     "slide_type": "slide"
    }
   },
   "source": [
    "### Transpose\n",
    "\n",
    "> Matrix transpose is used a lot for basis vector transpose.\n",
    "\n",
    "$$\n",
    "(A^T)_{i,j} = A_{j,i}\n",
    "$$\n",
    "\n",
    "> Below feature is very useful during the weight and feature dot product operation.\n",
    "\n",
    "Consider that mathmatically the columns within matrix is considered as the transformation target basis vector. And typically a vector as a array is represented as row. So instead of $M\\times v$, we use $v^T \\times M^T$.\n",
    "\n",
    "$$\n",
    "(AB)^T = B^TA^T\n",
    "$$"
   ]
  },
  {
   "cell_type": "code",
   "execution_count": 123,
   "metadata": {
    "slideshow": {
     "slide_type": "fragment"
    }
   },
   "outputs": [
    {
     "name": "stdout",
     "output_type": "stream",
     "text": [
      "[[3 4]\n",
      " [6 9]]\n",
      "[[11 25]\n",
      " [24 54]]\n",
      "[[11 25]\n",
      " [24 54]]\n"
     ]
    }
   ],
   "source": [
    "# Transpose\n",
    "B_T = B.transpose()\n",
    "print(B_T)\n",
    "\n",
    "P0= np.dot(A,B).transpose()\n",
    "print(P0)\n",
    "\n",
    "P1 = np.dot(B_T,A.transpose())\n",
    "print(P1)"
   ]
  },
  {
   "cell_type": "markdown",
   "metadata": {},
   "source": [
    "### Inversion\n",
    "\n",
    "* Matrix Inverse\n",
    "$$ A^{-1}A = I_n  \\tag{2.21}$$  \n",
    "\n",
    "* Solving a system using an inverse:\n",
    "\n",
    "\\begin{equation}\n",
    "Ax=b \\tag{2.22} \n",
    "\\end{equation}\n",
    "\n",
    "\\begin{equation}\n",
    "A^{-1}Ax = A^{-1}b \\tag{2.23}\n",
    "\\end{equation}\n",
    "\n",
    "\\begin{equation}\n",
    "I_nx=A^{-1}b \\tag{2.24}\n",
    "\\end{equation}\n",
    " \n",
    "\n",
    "* Numerically unstable, but useful for abstract analysis\n"
   ]
  },
  {
   "cell_type": "code",
   "execution_count": 124,
   "metadata": {
    "slideshow": {
     "slide_type": "fragment"
    }
   },
   "outputs": [
    {
     "data": {
      "text/plain": [
       "array([[ 3.        , -2.        ],\n",
       "       [-1.33333333,  1.        ]])"
      ]
     },
     "execution_count": 124,
     "metadata": {},
     "output_type": "execute_result"
    }
   ],
   "source": [
    "# Inverse\n",
    "B_Inv = np.linalg.inv(B)\n",
    "B_Inv"
   ]
  },
  {
   "cell_type": "markdown",
   "metadata": {},
   "source": [
    "**Invertibility**\n",
    "\n",
    "Matrix can’t be inverted if…\n",
    "* More rows than columns\n",
    "* More columns than rows\n",
    "* Redundant rows/columns (“linearly dependent”, “low rank”)"
   ]
  },
  {
   "cell_type": "code",
   "execution_count": 125,
   "metadata": {
    "slideshow": {
     "slide_type": "fragment"
    }
   },
   "outputs": [
    {
     "name": "stdout",
     "output_type": "stream",
     "text": [
      "Ops Error! :\n",
      "Singular matrix\n"
     ]
    }
   ],
   "source": [
    "Non_Invertable = np.array([[1,1],[1,1]])\n",
    "\n",
    "try:\n",
    "    Non_Invertable_Invert = np.linalg.inv(Non_Invertable)\n",
    "except Exception as err:\n",
    "    print(\"Ops Error! :\")\n",
    "    print(err)"
   ]
  },
  {
   "cell_type": "markdown",
   "metadata": {},
   "source": [
    "## Linear Algebra Tools"
   ]
  },
  {
   "cell_type": "markdown",
   "metadata": {},
   "source": [
    "### Span and Linear Dependency\n",
    "\n",
    "The span of a set of vectors is the set of all points obtainable by linear combinationof the original vectors.\n",
    "\n",
    "Determining whether $Ax=b$ has a solution thus amounts to testing whether b is in the span of the columns of A. This particular span is known as thecolumnspace, or the range, of A.\n",
    "\n",
    "A set of vectors is linearly independent if no vector in the set is a linear combination of the other vectors."
   ]
  },
  {
   "cell_type": "markdown",
   "metadata": {},
   "source": [
    "### Norm\n",
    "\n",
    "> Functions that measure how “large” a vector is\n",
    "\n",
    "Similar to a distance between zero and the point represented by the vector\n",
    "\n",
    "* $f(x) = 0 \\implies x=0$\n",
    "* $ f(x+y) \\leq f(x) + f(y)$ *(the triangle inequality)*\n",
    "* $\\forall \\alpha \\in \\mathbb{R} , f(\\alpha x) = |\\alpha|f(x)$\n"
   ]
  },
  {
   "cell_type": "markdown",
   "metadata": {},
   "source": [
    "* $L^p$ Norm\n",
    "$$\n",
    "||x||_p = \\Bigg(\\sum_i |x_i|^p \\Bigg)^{\\dfrac{1}{p}}\n",
    "$$\n",
    "\n",
    "* Most popular norm : L2 norm, p=2\n",
    "* L1 norm, p=1 : $||x||_1 = \\sum_i |x_i| $\n",
    "* Max norm, infinite p : $||x||_\\infty = \\max_{i}  |x_i| $\n",
    "\n",
    "\n",
    "\n",
    "<img src=\"Images\\VectorNorm.png\" width=\"200px\" />"
   ]
  },
  {
   "cell_type": "code",
   "execution_count": 126,
   "metadata": {
    "slideshow": {
     "slide_type": "subslide"
    }
   },
   "outputs": [
    {
     "name": "stdout",
     "output_type": "stream",
     "text": [
      "[-1  2]\n",
      "3.0\n",
      "2.2360679775\n",
      "2.2360679775\n",
      "2.2360679775\n"
     ]
    }
   ],
   "source": [
    "print(v5)\n",
    "L1 = np.linalg.norm(v5,1)\n",
    "print(L1)\n",
    "L2 = np.linalg.norm(v5,2)\n",
    "print(L2) \n",
    "z = np.sqrt(np.square(-1)+np.square(2)) \n",
    "print(z)\n",
    "\n",
    "# v5 Tranpsose * v5\n",
    "L2_other = np.sqrt(np.dot(v5.transpose(),v5))\n",
    "print(L2_other)\n",
    "\n"
   ]
  },
  {
   "cell_type": "markdown",
   "metadata": {
    "collapsed": true,
    "hide_input": false
   },
   "source": [
    "**Special Matrices and Vectors**\n",
    "\n",
    "* Unit Vector:\n",
    "$$||x||_2 = 1 \\tag{2.36}$$\n",
    "\n",
    "* Symmetric Matrix:\n",
    "$$ A = A^T \\tag{2.35}$$\n",
    "\n",
    "* Orthogonal matrix\n",
    "$$ \n",
    "A^TA = AA^T = I \\\\\n",
    "A^{-1} = A^T \\tag{2.37}\n",
    "$$"
   ]
  },
  {
   "cell_type": "markdown",
   "metadata": {},
   "source": [
    "### Eigendecomposition\n",
    "\n",
    "* Eigenvector and eigenvalue:\n",
    "$$Av=\\lambda v \\tag{2.39}$$\n",
    "\n",
    "> Eigen vectors are set of vectors stay in their span during transformation. \n",
    "\n",
    "To visual understand what's Eigenvector and eigenvalue, please see [3brown1blue video](https://www.youtube.com/watch?v=PFDu9oVAE-g).\n",
    "\n",
    "<img src=\"images/EigenVector.gif\" />\n",
    "\n",
    "* Eigendecomposition of a diagonalizable matrix:\n",
    "$$ A = Vdiag(\\lambda)V^{-1} \\tag{2.40} $$\n",
    "\n",
    "> The transformation matrix is expressed in the new coordinate system via the collection of Eigenvectors as the new basis vector of transformation matrix. And diagnosis matrix is a multipication of how much scaled of the transformation in the corresponding Eigenvector as the basis vector.\n",
    "\n",
    "* Every real symmetric matrix has a real, orthogonal eigendecomposition:\n",
    "$$ A = Q \\Lambda Q^T $$\n"
   ]
  },
  {
   "cell_type": "markdown",
   "metadata": {},
   "source": [
    "For example, here is how to compute the Eigenvalue of matrix below\n",
    "$$\n",
    "\\begin{bmatrix} \n",
    "3, 6 \\\\\n",
    "4, 9\\\\\n",
    "\\end{bmatrix}\n",
    "$$ \n",
    "\n",
    "Computation process as below\n",
    "\n",
    "$$\n",
    "det(\\begin{bmatrix} \n",
    "3-\\lambda, 6 \\\\\n",
    "4, 9-\\lambda \\\\\n",
    "\\end{bmatrix}\n",
    ") = 0\n",
    "$$\n",
    "\n",
    "$$\n",
    "27-12\\lambda + \\lambda^2 -24 = 0 \\\\\n",
    "\\lambda^2 -12\\lambda + 3 =0  \\\\\n",
    "\\lambda = \\frac{12 \\pm  \\sqrt{12^2 - 4 * 1 *3}}{2} \\\\\n",
    "$$"
   ]
  },
  {
   "cell_type": "code",
   "execution_count": 127,
   "metadata": {},
   "outputs": [
    {
     "name": "stdout",
     "output_type": "stream",
     "text": [
      "[[3 6]\n",
      " [4 9]]\n",
      "0.255437353462 11.7445626465\n",
      "[  0.25543735  11.74456265]\n",
      "[[-0.90937671 -0.56576746]\n",
      " [ 0.41597356 -0.82456484]]\n"
     ]
    }
   ],
   "source": [
    "print(B)\n",
    "lambda_1 = (12 - np.sqrt(12*12-4*1*3))/2\n",
    "lambda_2 = (12 + np.sqrt(12*12-4*1*3))/2\n",
    "print(lambda_1,lambda_2)\n",
    "\n",
    "eigenvalues, eigenvectors = np.linalg.eig(B)\n",
    "print(eigenvalues)\n",
    "print(eigenvectors)"
   ]
  },
  {
   "cell_type": "code",
   "execution_count": 128,
   "metadata": {},
   "outputs": [
    {
     "name": "stdout",
     "output_type": "stream",
     "text": [
      "[[ 3.  6.]\n",
      " [ 4.  9.]]\n",
      "True\n"
     ]
    }
   ],
   "source": [
    "B_eigencomposed = np.dot(np.dot(eigenvectors, np.diag(eigenvalues)),np.linalg.inv(eigenvectors))\n",
    "print(B_eigencomposed)\n",
    "print(np.array_equal(B,B_eigencomposed))"
   ]
  },
  {
   "cell_type": "markdown",
   "metadata": {},
   "source": [
    "### Single Value Decomposition\n",
    "\n",
    "* Similar to eigendecomposition\n",
    "* More general; matrix need not be square\n",
    "\n",
    "$$\n",
    "A = UDV^T \\tag{2.43}\n",
    "$$\n",
    "\n",
    "> Any matrix A can be written in the form $UDV^T$ where U and V are strictly rotations and D is a matrix that scales. So, any linear transformation can be broken down into 3 steps, i.e. rotate first, stretch/scale (not necessarily by the same amount in all directions; you could stretch the x-axis twice as much as the y-axis), and rotate again"
   ]
  },
  {
   "cell_type": "markdown",
   "metadata": {},
   "source": [
    "### Moore-Penrose Pseudoinverse\n",
    "\n",
    "$$ x =  A^+y $$\n",
    "\n",
    "If the equation has:\n",
    "* Exactly one solution: this is the same as the inverse.\n",
    "* No solution: this gives us the solution with the smallest error\n",
    "* Many solutions: this gives us the solution with the smallest norm of x.\n",
    "\n",
    "**Compute**\n",
    "The SVD allows the computation of the pseudoinverse:\n",
    "\n",
    "$$\n",
    "A^+= VD^+U^T \\tag{2.47} \\\\\n",
    "D^+ : \\text{Take reciprocal of non-zero entries}\n",
    "$$\n"
   ]
  },
  {
   "cell_type": "markdown",
   "metadata": {},
   "source": [
    "### Trace\n",
    "\n",
    "The trace operator gives the sum of all the diagonal entries of a matrix\n",
    "\n",
    "$$\n",
    "Tr(A) = \\Sigma_i A_{i,j} \\tag{2.48}\n",
    "$$\n",
    "\n",
    "$$\n",
    "Tr(ABC) = Tr(BAC) = Tr(CAB) \\tag{2.51}\n",
    "$$"
   ]
  },
  {
   "cell_type": "markdown",
   "metadata": {},
   "source": [
    "### Determinant\n",
    "\n",
    "\n",
    "* The determinant of a square matrix, denoted det(A), is a function that mapsmatrices to real scalars. \n",
    "* The determinant is equal to the product of all theeigenvalues of the matrix. \n",
    "* The absolute value of the determinant can be thoughtof as a measure of how much multiplication by the matrix expands or contractsspace.\n",
    "\n",
    "\n",
    "> How much change of volume \n",
    "\n",
    "For more visual understanding of how the Determinant means in the geometry, please see [3blue1brown video](https://www.youtube.com/watch?v=Ip3X9LOh2dk&t=4s).\n",
    "\n",
    "<img src=\"images\\Determinant.gif\" />"
   ]
  },
  {
   "cell_type": "markdown",
   "metadata": {},
   "source": [
    "### PCA\n",
    "\n"
   ]
  },
  {
   "cell_type": "markdown",
   "metadata": {},
   "source": [
    "## Summary\n",
    "\n",
    "Imaging you are walking in a very dark 3D space, you can see all the vectors as arrows in the space, with numbers, and these vectors can be transformed into different ones (matrix operations), the collection of these vectors forms the span, any vectors can be represented via other vectors they are called linear dependent. \n",
    "\n",
    "* Linear algebra is very useful and not boring at all if you use **geometry** to get the inituition of each concept and tools\n",
    "* Vector is essensial and map to n-dimension space\n",
    "* Consider matrix operation as Linear transformation \n"
   ]
  }
 ],
 "metadata": {
  "kernelspec": {
   "display_name": "Python (DeepLearningBook)",
   "language": "python",
   "name": "deeplearningbook"
  },
  "language_info": {
   "codemirror_mode": {
    "name": "ipython",
    "version": 3
   },
   "file_extension": ".py",
   "mimetype": "text/x-python",
   "name": "python",
   "nbconvert_exporter": "python",
   "pygments_lexer": "ipython3",
   "version": "3.5.2"
  },
  "varInspector": {
   "cols": {
    "lenName": 16,
    "lenType": 16,
    "lenVar": 40
   },
   "kernels_config": {
    "python": {
     "delete_cmd_postfix": "",
     "delete_cmd_prefix": "del ",
     "library": "var_list.py",
     "varRefreshCmd": "print(var_dic_list())"
    },
    "r": {
     "delete_cmd_postfix": ") ",
     "delete_cmd_prefix": "rm(",
     "library": "var_list.r",
     "varRefreshCmd": "cat(var_dic_list()) "
    }
   },
   "types_to_exclude": [
    "module",
    "function",
    "builtin_function_or_method",
    "instance",
    "_Feature"
   ],
   "window_display": false
  }
 },
 "nbformat": 4,
 "nbformat_minor": 2
}
